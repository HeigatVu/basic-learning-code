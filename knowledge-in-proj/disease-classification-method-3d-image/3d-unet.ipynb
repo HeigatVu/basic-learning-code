{
 "cells": [
  {
   "cell_type": "code",
   "execution_count": 4,
   "metadata": {},
   "outputs": [],
   "source": [
    "import torch\n",
    "import torch.nn as nn\n",
    "import torch.nn.functional as F"
   ]
  },
  {
   "cell_type": "code",
   "execution_count": 5,
   "metadata": {},
   "outputs": [],
   "source": [
    "class DownSampingDouble3DCNN(nn.Module):\n",
    "    def __init__(self, in_channels=None, out_channels=None, bottleneck=False) -> None:\n",
    "        super(DownSampingDouble3DCNN, self).__init__()\n",
    "        self.conv1 = nn.Conv3d(in_channels=in_channels, out_channels=out_channels//2, kernel_size=(3,3,3), padding=1)\n",
    "        self.bn1 = nn.BatchNorm3d(num_features=out_channels//2)\n",
    "        self.conv2 = nn.Conv3d(in_channels=out_channels//2, out_channels=out_channels, kernel_size=(3,3,3), padding=1)\n",
    "        self.bn2 = nn.BatchNorm3d(num_features=out_channels)\n",
    "        self.relu = nn.ReLU()\n",
    "        self.bottleneck = bottleneck\n",
    "        if not bottleneck:\n",
    "            self.pooling = nn.MaxPool3d(kernel_size=(2,2,2), stride=2)\n",
    "\n",
    "    def forward(self, x):\n",
    "        residual = self.relu(self.bn1(self.conv1(x)))\n",
    "        residual = self.relu(self.bn2(self.conv2(residual)))\n",
    "        out = residual\n",
    "        if not self.bottleneck:\n",
    "            out = self.pooling(residual)\n",
    "        return out, residual"
   ]
  },
  {
   "cell_type": "code",
   "execution_count": 6,
   "metadata": {},
   "outputs": [],
   "source": [
    "class UpsamplingDouble3DCNN(nn.Module):\n",
    "    def __init__(self, in_channels=None, res_channels=0, out_channels=None, last_layer=False, num_classes=None):\n",
    "        super(UpsamplingDouble3DCNN, self).__init__()\n",
    "        self.last_layer = last_layer\n",
    "        self.num_classes = num_classes\n",
    "\n",
    "        self.upconv1 = nn.ConvTranspose3d(\n",
    "            in_channels=in_channels, out_channels=in_channels, kernel_size=(2, 2, 2), stride=2)\n",
    "        self.relu = nn.ReLU()\n",
    "        self.bn1 = nn.BatchNorm3d(num_features=in_channels)\n",
    "        self.bn2 = nn.BatchNorm3d(num_features=in_channels // 2)\n",
    "        self.conv1 = nn.Conv3d(\n",
    "            in_channels=in_channels + res_channels,\n",
    "            out_channels=in_channels,\n",
    "            kernel_size=(3,3,3),\n",
    "            padding=1)\n",
    "        self.conv2 = nn.Conv3d(\n",
    "            in_channels=in_channels, out_channels=in_channels // 2, kernel_size=(3,3,3), padding=1)\n",
    "        if self.last_layer:\n",
    "            self.conv3 = nn.Conv3d(\n",
    "                in_channels=in_channels // 2,\n",
    "                out_channels=num_classes,\n",
    "                kernel_size=(1,1,1))\n",
    "\n",
    "    def forward(self, x, residual=None):\n",
    "        out = self.upconv1(x)\n",
    "\n",
    "        if residual is not None:\n",
    "            if out.shape[2:] != residual.shape[2:]:\n",
    "                residual = F.interpolate(\n",
    "                    residual,\n",
    "                    size=out.shape[2:],\n",
    "                    mode='trilinear',\n",
    "                    align_corners=False)\n",
    "\n",
    "            out = torch.cat([out, residual], dim=1)\n",
    "\n",
    "        out = self.relu(self.bn1(self.conv1(out)))\n",
    "        out = self.relu(self.bn2(self.conv2(out)))\n",
    "\n",
    "        if self.last_layer:\n",
    "            out = self.conv3(out)\n",
    "        return out"
   ]
  },
  {
   "cell_type": "code",
   "execution_count": 7,
   "metadata": {},
   "outputs": [],
   "source": [
    "\n",
    "class Unet3D(nn.Module):\n",
    "    def __init__(self, in_channels=3, num_classes=3, num_features=[64, 128, 256, 512]):\n",
    "        super(Unet3D, self).__init__()\n",
    "        self.downsamplings = nn.ModuleList()\n",
    "        self.upsamplings = nn.ModuleList()\n",
    "\n",
    "        # Down sampling path\n",
    "        for i in range(len(num_features) - 1):\n",
    "            self.downsamplings.append(DownSampingDouble3DCNN(in_channels=in_channels if i == 0 else num_features[i-1],\n",
    "                                                              out_channels=num_features[i]))\n",
    "\n",
    "        # Bottleneck\n",
    "        self.bottleneck = DownSampingDouble3DCNN(in_channels=num_features[-2], out_channels=num_features[-1], bottleneck=True)\n",
    "\n",
    "        # Up sampling path\n",
    "        for i in range(len(num_features) - 1, 0, -1):\n",
    "            self.upsamplings.append(\n",
    "                UpsamplingDouble3DCNN(in_channels=num_features[i], res_channels=num_features[i-1],\n",
    "                                      out_channels=num_features[i-1])\n",
    "            )\n",
    "\n",
    "        self.last_layer = UpsamplingDouble3DCNN(in_channels=num_features[0], res_channels=0,\n",
    "                                                last_layer=True, num_classes=num_classes)\n",
    "\n",
    "    def forward(self, x):\n",
    "        residuals = []\n",
    "\n",
    "        # Down sampling path\n",
    "        for downsampling_layer in self.downsamplings:\n",
    "            x, residual = downsampling_layer(x)\n",
    "            residuals.append(residual)\n",
    "\n",
    "        x, _ = self.bottleneck(x)\n",
    "\n",
    "        # Up sampling path\n",
    "        for idx, upsampling_layer in enumerate(self.upsamplings):\n",
    "            x = upsampling_layer(x, residual=residuals[-idx-1])\n",
    "\n",
    "        x = self.last_layer(x)\n",
    "        return x"
   ]
  },
  {
   "cell_type": "code",
   "execution_count": 8,
   "metadata": {},
   "outputs": [
    {
     "name": "stdout",
     "output_type": "stream",
     "text": [
      "torch.Size([1, 3, 128, 128, 128])\n"
     ]
    }
   ],
   "source": [
    "# Create the model\n",
    "model = Unet3D()\n",
    "\n",
    "# Dummy input\n",
    "input = torch.randn(1, 3, 64, 64, 64)  # (batch_size, channels, depth, height, width)\n",
    "\n",
    "# Forward pass\n",
    "output = model(input)\n",
    "print(output.shape)"
   ]
  }
 ],
 "metadata": {
  "kernelspec": {
   "display_name": "aio-hw2024",
   "language": "python",
   "name": "python3"
  },
  "language_info": {
   "codemirror_mode": {
    "name": "ipython",
    "version": 3
   },
   "file_extension": ".py",
   "mimetype": "text/x-python",
   "name": "python",
   "nbconvert_exporter": "python",
   "pygments_lexer": "ipython3",
   "version": "3.10.17"
  }
 },
 "nbformat": 4,
 "nbformat_minor": 2
}
