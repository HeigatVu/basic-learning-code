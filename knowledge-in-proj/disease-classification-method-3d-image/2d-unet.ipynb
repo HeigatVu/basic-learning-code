{
 "cells": [
  {
   "cell_type": "code",
   "execution_count": 1,
   "metadata": {},
   "outputs": [],
   "source": [
    "import torch.nn as nn\n",
    "import torch\n",
    "import torchvision.transforms.functional as functional\n"
   ]
  },
  {
   "cell_type": "code",
   "execution_count": 2,
   "metadata": {},
   "outputs": [],
   "source": [
    "# Each unet block has two conv layers\n",
    "\n",
    "class DoubleConv(nn.Module):\n",
    "    def __init__(self, in_channels, out_channels):\n",
    "        super(DoubleConv, self).__init__()\n",
    "        self.conv = nn.Sequential(\n",
    "            nn.Conv2d(in_channels, out_channels, 3, 1, 1, bias=False), #kernal_size, stride, padding\n",
    "            nn.BatchNorm2d(out_channels),\n",
    "            nn.ReLU(inplace=True),\n",
    "\n",
    "            nn.Conv2d(out_channels, out_channels, 3, 1, 1, bias=False),\n",
    "            nn.BatchNorm2d(out_channels),\n",
    "            nn.ReLU(inplace=True)\n",
    "        )\n",
    "    def forward(self, x):\n",
    "        return self.conv(x)"
   ]
  },
  {
   "cell_type": "code",
   "execution_count": 3,
   "metadata": {},
   "outputs": [],
   "source": [
    "class UNET2D(nn.Module):\n",
    "    def __init__(self, in_channels=3, out_channels=1, features = [64, 128, 256, 512]):\n",
    "        super(UNET2D, self).__init__()\n",
    "        self.downsamplings = nn.ModuleList()\n",
    "        self.upsamplings = nn.ModuleList()\n",
    "        self.pool = nn.MaxPool2d(2, 2)\n",
    "\n",
    "        #down sampling\n",
    "        for feature in features:\n",
    "            self.downsamplings.append(DoubleConv(in_channels, feature))\n",
    "            in_channels = feature\n",
    "\n",
    "        #up sampling\n",
    "        for feature in reversed(features):\n",
    "            self.upsamplings.append(nn.Sequential(\n",
    "                    nn.Upsample(scale_factor=2, mode='bilinear', align_corners=True),\n",
    "                    DoubleConv(feature * 2, feature)  # This ensures the channel count is correct after concatenation\n",
    "                )\n",
    "            )\n",
    "            self.upsamplings.append(DoubleConv(feature*2, feature))\n",
    "\n",
    "        self.bottleneck = DoubleConv(features[-1], features[-1]*2)\n",
    "        self.final_conv = nn.Conv2d(features[0], out_channels, kernel_size=1)\n",
    "\n",
    "    def forward(self, x):\n",
    "        #skip connection\n",
    "        skip_connection = []\n",
    "\n",
    "        for down_sampling in self.downsamplings:\n",
    "            x = down_sampling(x)\n",
    "            skip_connection.append(x)\n",
    "            x = self.pool(x)\n",
    "\n",
    "        x = self.bottleneck(x)\n",
    "        skip_connection = skip_connection[::-1] #reverse\n",
    "\n",
    "        for idx  in range(0, len(self.upsamplings), 2):\n",
    "            x = self.upsamplings[idx](x)\n",
    "            skip_connection_feature = skip_connection[idx//2]\n",
    "            concatenated_features = torch.cat([x, skip_connection_feature], dim=1)\n",
    "            x = self.upsamplings[idx+1](concatenated_features)\n",
    "\n",
    "\n",
    "        return self.final_conv(x)"
   ]
  },
  {
   "cell_type": "code",
   "execution_count": 5,
   "metadata": {},
   "outputs": [
    {
     "name": "stdout",
     "output_type": "stream",
     "text": [
      "torch.Size([3, 1, 160, 160])\n"
     ]
    }
   ],
   "source": [
    "ex = torch.rand((3, 3, 160, 160))\n",
    "model = UNET2D(in_channels=3, out_channels=1)\n",
    "out = model(ex)\n",
    "print(out.shape)"
   ]
  }
 ],
 "metadata": {
  "kernelspec": {
   "display_name": "aio-hw2024",
   "language": "python",
   "name": "python3"
  },
  "language_info": {
   "codemirror_mode": {
    "name": "ipython",
    "version": 3
   },
   "file_extension": ".py",
   "mimetype": "text/x-python",
   "name": "python",
   "nbconvert_exporter": "python",
   "pygments_lexer": "ipython3",
   "version": "3.10.17"
  }
 },
 "nbformat": 4,
 "nbformat_minor": 2
}
