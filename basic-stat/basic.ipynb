{
 "cells": [
  {
   "cell_type": "code",
   "execution_count": 1,
   "metadata": {},
   "outputs": [],
   "source": [
    "import numpy as np"
   ]
  },
  {
   "cell_type": "code",
   "execution_count": 2,
   "metadata": {},
   "outputs": [
    {
     "name": "stdout",
     "output_type": "stream",
     "text": [
      "[1 3 4 4]\n",
      "Mean:  3.0\n",
      "Std:  1.224744871391589\n",
      "Variance:  1.5\n"
     ]
    }
   ],
   "source": [
    "data = np.array([1, 3, 4, 4])\n",
    "print(data)\n",
    "\n",
    "print(\"Mean: \", np.mean(data))\n",
    "print(\"Std: \", np.std(data))\n",
    "print(\"Variance: \", np.var(data))"
   ]
  },
  {
   "cell_type": "code",
   "execution_count": 3,
   "metadata": {},
   "outputs": [
    {
     "name": "stdout",
     "output_type": "stream",
     "text": [
      "[1 2 3 2]\n",
      "Mean:  2.0\n",
      "Std:  0.7071067811865476\n",
      "Variance:  0.5\n"
     ]
    }
   ],
   "source": [
    "data = np.array([1, 2, 3, 2])\n",
    "print(data)\n",
    "\n",
    "print(\"Mean: \", np.mean(data))\n",
    "print(\"Std: \", np.std(data))\n",
    "print(\"Variance: \", np.var(data))"
   ]
  },
  {
   "cell_type": "code",
   "execution_count": 4,
   "metadata": {},
   "outputs": [
    {
     "name": "stdout",
     "output_type": "stream",
     "text": [
      "Covariance: \n",
      " [[2.         1.        ]\n",
      " [1.         0.66666667]]\n",
      "Correlation: \n",
      " [[1.        0.8660254]\n",
      " [0.8660254 1.       ]]\n"
     ]
    }
   ],
   "source": [
    "# Sample data for two variables\n",
    "var1 = np.array([1, 3, 4, 4])\n",
    "var2 = np.array([1, 2, 3, 2])\n",
    "\n",
    "# Compute covariance\n",
    "print(\"Covariance: \\n\", np.cov(var1, var2))\n",
    "\n",
    "# Compute correlation coefficient\n",
    "print(\"Correlation: \\n\", np.corrcoef(var1, var2))"
   ]
  }
 ],
 "metadata": {
  "kernelspec": {
   "display_name": "aio-hw2024",
   "language": "python",
   "name": "python3"
  },
  "language_info": {
   "codemirror_mode": {
    "name": "ipython",
    "version": 3
   },
   "file_extension": ".py",
   "mimetype": "text/x-python",
   "name": "python",
   "nbconvert_exporter": "python",
   "pygments_lexer": "ipython3",
   "version": "3.10.17"
  }
 },
 "nbformat": 4,
 "nbformat_minor": 2
}
