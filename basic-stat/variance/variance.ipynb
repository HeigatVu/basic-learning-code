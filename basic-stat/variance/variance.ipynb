{
 "cells": [
  {
   "cell_type": "code",
   "execution_count": 3,
   "metadata": {},
   "outputs": [
    {
     "name": "stderr",
     "output_type": "stream",
     "text": [
      "/tmp/ipykernel_144187/1488984444.py:4: DeprecationWarning: Please import `generic_filter` from the `scipy.ndimage` namespace; the `scipy.ndimage.filters` namespace is deprecated and will be removed in SciPy 2.0.0.\n",
      "  from scipy.ndimage.filters import generic_filter\n"
     ]
    }
   ],
   "source": [
    "import numpy as np\n",
    "import cv2\n",
    "import math\n",
    "from scipy.ndimage.filters import generic_filter"
   ]
  },
  {
   "cell_type": "code",
   "execution_count": 4,
   "metadata": {},
   "outputs": [
    {
     "name": "stdout",
     "output_type": "stream",
     "text": [
      "97.80698\n"
     ]
    },
    {
     "name": "stderr",
     "output_type": "stream",
     "text": [
      "[ WARN:0@810.147] global loadsave.cpp:848 imwrite_ Unsupported depth image for selected encoder is fallbacked to CV_8U.\n"
     ]
    },
    {
     "data": {
      "text/plain": [
       "True"
      ]
     },
     "execution_count": 4,
     "metadata": {},
     "output_type": "execute_result"
    }
   ],
   "source": [
    "\n",
    "\n",
    "# Load the image\n",
    "img = cv2.imread('img.jpg')\n",
    "# Convert to grayscale\n",
    "gray = cv2.cvtColor(img, cv2.COLOR_BGR2GRAY)\n",
    "# Save the grayscale image\n",
    "cv2.imwrite('edge_s1.jpg', gray)\n",
    "\n",
    "# Convert to float32 for calculations\n",
    "x = gray.astype('float32')\n",
    "# Apply local standard deviation filter for texture detection\n",
    "x_filt = generic_filter(x, np.std, size=7)\n",
    "# Save the initial texture map\n",
    "cv2.imwrite('edge_s2.jpg', x_filt)\n",
    "\n",
    "# Apply threshold - remove low texture areas (less than 20)\n",
    "x_filt[x_filt < 20] = 0\n",
    "# Save thresholded texture map\n",
    "cv2.imwrite('edge_s3.jpg', x_filt)\n",
    "# Find and print maximum value\n",
    "maxv = np.max(x_filt)\n",
    "print(maxv)\n",
    "\n",
    "# Enhance contrast by multiplying by 2.5\n",
    "x_filt = x_filt * 2.5\n",
    "# Save enhanced texture map\n",
    "cv2.imwrite('edge_s4.jpg', x_filt)"
   ]
  }
 ],
 "metadata": {
  "kernelspec": {
   "display_name": "aio-hw2024",
   "language": "python",
   "name": "python3"
  },
  "language_info": {
   "codemirror_mode": {
    "name": "ipython",
    "version": 3
   },
   "file_extension": ".py",
   "mimetype": "text/x-python",
   "name": "python",
   "nbconvert_exporter": "python",
   "pygments_lexer": "ipython3",
   "version": "3.10.17"
  }
 },
 "nbformat": 4,
 "nbformat_minor": 2
}
