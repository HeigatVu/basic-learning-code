{
 "cells": [
  {
   "cell_type": "code",
   "execution_count": 7,
   "metadata": {},
   "outputs": [],
   "source": [
    "import numpy as np\n",
    "import cv2"
   ]
  },
  {
   "cell_type": "markdown",
   "metadata": {},
   "source": [
    "ADD NOISE"
   ]
  },
  {
   "cell_type": "code",
   "execution_count": 11,
   "metadata": {},
   "outputs": [
    {
     "name": "stdout",
     "output_type": "stream",
     "text": [
      "Noisy image saved successfully as 'mrbean_noise.jpg'\n"
     ]
    }
   ],
   "source": [
    "\n",
    "# Load image\n",
    "image = cv2.imread('mrbean.jpg')\n",
    "\n",
    "# Check if image was loaded successfully\n",
    "if image is None:\n",
    "    print(\"Error: Could not load image. Check the file path.\")\n",
    "else:\n",
    "    row, col, ch = image.shape\n",
    "    s_vs_p = 0.5  # Salt vs Pepper ratio\n",
    "    amount = 0.009  # Amount of noise\n",
    "    out = np.copy(image)\n",
    "    \n",
    "    # Salt mode (white pixels)\n",
    "    num_salt = np.ceil(amount * image.size * s_vs_p)\n",
    "    \n",
    "    # Generate random row and column coordinates separately\n",
    "    salt_coords_row = np.random.randint(0, row, int(num_salt))\n",
    "    salt_coords_col = np.random.randint(0, col, int(num_salt))\n",
    "    \n",
    "    # Set salt pixels to white (255 for all channels)\n",
    "    out[salt_coords_row, salt_coords_col] = 1\n",
    "    \n",
    "    # Pepper mode (black pixels)\n",
    "    num_pepper = np.ceil(amount * image.size * (1. - s_vs_p))\n",
    "    \n",
    "    # Generate random row and column coordinates separately\n",
    "    pepper_coords_row = np.random.randint(0, row, int(num_pepper))\n",
    "    pepper_coords_col = np.random.randint(0, col, int(num_pepper))\n",
    "    \n",
    "    # Set pepper pixels to black (0 for all channels)\n",
    "    out[pepper_coords_row, pepper_coords_col] = 0\n",
    "    \n",
    "    # Save the noisy image\n",
    "    cv2.imwrite('mrbean_noise.jpg', out)\n",
    "    print(\"Noisy image saved successfully as 'mrbean_noise.jpg'\")\n",
    "    \n",
    "    # Optional: Display the images if you have display capability\n",
    "    cv2.imshow('Original', image)\n",
    "    cv2.imshow('Noisy', out)\n",
    "    cv2.waitKey(0)\n",
    "    cv2.destroyAllWindows()"
   ]
  },
  {
   "cell_type": "code",
   "execution_count": 14,
   "metadata": {},
   "outputs": [
    {
     "name": "stdout",
     "output_type": "stream",
     "text": [
      "Noisy image saved successfully as 'mrbean_denoise.jpg'\n"
     ]
    }
   ],
   "source": [
    "img1 = cv2.imread('mrbean_noise.jpg')\n",
    "img2 = cv2.medianBlur(img1, 3)\n",
    "\n",
    "# show images\n",
    "cv2.imshow('img1', img1)\n",
    "cv2.imshow('img2', img2)\n",
    "\n",
    "# Save the denoisy image\n",
    "cv2.imwrite('mrbean_denoise.jpg', img2)\n",
    "print(\"Noisy image saved successfully as 'mrbean_denoise.jpg'\")\n",
    "\n",
    "# waiting for any keys pressed and close windows\n",
    "cv2.waitKey(0)\n",
    "cv2.destroyAllWindows()"
   ]
  }
 ],
 "metadata": {
  "kernelspec": {
   "display_name": "aio-hw2024",
   "language": "python",
   "name": "python3"
  },
  "language_info": {
   "codemirror_mode": {
    "name": "ipython",
    "version": 3
   },
   "file_extension": ".py",
   "mimetype": "text/x-python",
   "name": "python",
   "nbconvert_exporter": "python",
   "pygments_lexer": "ipython3",
   "version": "3.10.17"
  }
 },
 "nbformat": 4,
 "nbformat_minor": 2
}
