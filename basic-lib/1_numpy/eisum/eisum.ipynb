{
 "cells": [
  {
   "cell_type": "code",
   "execution_count": 2,
   "metadata": {},
   "outputs": [],
   "source": [
    "import numpy as np"
   ]
  },
  {
   "cell_type": "code",
   "execution_count": 5,
   "metadata": {},
   "outputs": [
    {
     "name": "stdout",
     "output_type": "stream",
     "text": [
      "11\n"
     ]
    }
   ],
   "source": [
    "# dot of two vectors\n",
    "u = np.array([3, 2, 4, 1])\n",
    "v = np.array([2, 1, 0, 3])\n",
    "\n",
    "r = np.einsum('i,i->', u, v) # equal to dot u and v\n",
    "print(r)"
   ]
  },
  {
   "cell_type": "code",
   "execution_count": 6,
   "metadata": {},
   "outputs": [
    {
     "name": "stdout",
     "output_type": "stream",
     "text": [
      "[18 12 24  6]\n"
     ]
    }
   ],
   "source": [
    "# Sum of two vectors\n",
    "u = np.array([3, 2, 4, 1])\n",
    "v = np.array([2, 1, 0, 3])\n",
    "\n",
    "r = np.einsum('i,j->i', u, v) # equal to multiply vector u with sum of vector v\n",
    "print(r)"
   ]
  },
  {
   "cell_type": "code",
   "execution_count": 7,
   "metadata": {},
   "outputs": [
    {
     "name": "stdout",
     "output_type": "stream",
     "text": [
      "[20 10  0 30]\n"
     ]
    }
   ],
   "source": [
    "u = np.array([3, 2, 4, 1])\n",
    "v = np.array([2, 1, 0, 3])\n",
    "\n",
    "r = np.einsum('i,j->j', u, v) # Same as above with reverse order\n",
    "print(r)"
   ]
  },
  {
   "cell_type": "code",
   "execution_count": 9,
   "metadata": {},
   "outputs": [
    {
     "name": "stdout",
     "output_type": "stream",
     "text": [
      "[[ 6  3  0  9]\n",
      " [ 4  2  0  6]\n",
      " [ 8  4  0 12]\n",
      " [ 2  1  0  3]]\n"
     ]
    }
   ],
   "source": [
    "u = np.array([3, 2, 4, 1])\n",
    "v = np.array([2, 1, 0, 3])\n",
    "\n",
    "r = np.einsum('i,j->ij', u, v) # Outer product\n",
    "print(r)"
   ]
  },
  {
   "cell_type": "code",
   "execution_count": 10,
   "metadata": {},
   "outputs": [
    {
     "name": "stdout",
     "output_type": "stream",
     "text": [
      "[[0 3]\n",
      " [2 1]\n",
      " [1 4]]\n"
     ]
    }
   ],
   "source": [
    "A = np.array([[0, 2, 1],\n",
    "              [3, 1, 4]])\n",
    "T = np.einsum('ij->ji', A) # Transpose\n",
    "print(T)"
   ]
  },
  {
   "cell_type": "code",
   "execution_count": 12,
   "metadata": {},
   "outputs": [
    {
     "name": "stdout",
     "output_type": "stream",
     "text": [
      "[5 1 3]\n"
     ]
    }
   ],
   "source": [
    "A = np.array([[5, 2, 1],\n",
    "              [3, 1, 6],\n",
    "              [2, 4, 3]])\n",
    "r = np.einsum('ii->i', A) # Taking diagonal elements\n",
    "print(r)"
   ]
  },
  {
   "cell_type": "code",
   "execution_count": 13,
   "metadata": {},
   "outputs": [
    {
     "name": "stdout",
     "output_type": "stream",
     "text": [
      "9\n"
     ]
    }
   ],
   "source": [
    "A = np.array([[5, 2, 1],\n",
    "              [3, 1, 6],\n",
    "              [2, 4, 3]])\n",
    "r = np.einsum('ii->', A) # Sum of diagonal elements\n",
    "print(r)"
   ]
  },
  {
   "cell_type": "code",
   "execution_count": 14,
   "metadata": {},
   "outputs": [
    {
     "name": "stdout",
     "output_type": "stream",
     "text": [
      "[[3 0 2]\n",
      " [6 4 3]]\n"
     ]
    }
   ],
   "source": [
    "A = np.array([[3, 0, 1],\n",
    "              [2, 2, 3]])\n",
    "B = np.array([[1, 0, 2],\n",
    "              [3, 2, 1]])\n",
    "r = np.einsum('ij,ij->ij', A, B) # Matrix multiplication\n",
    "print(r)"
   ]
  },
  {
   "cell_type": "code",
   "execution_count": 15,
   "metadata": {},
   "outputs": [
    {
     "name": "stdout",
     "output_type": "stream",
     "text": [
      "[[ 3  6]\n",
      " [18 32]]\n"
     ]
    }
   ],
   "source": [
    "A = np.array([[0, 2, 1],\n",
    "              [3, 1, 4]])\n",
    "B = np.array([[2, 5],\n",
    "              [0, 1],\n",
    "              [3, 4]])\n",
    "C = np.einsum('ij,jk->ik', A, B) # dot product of A and B\n",
    "print(C)"
   ]
  },
  {
   "cell_type": "code",
   "execution_count": null,
   "metadata": {},
   "outputs": [],
   "source": []
  }
 ],
 "metadata": {
  "kernelspec": {
   "display_name": "aio-hw2024",
   "language": "python",
   "name": "python3"
  },
  "language_info": {
   "codemirror_mode": {
    "name": "ipython",
    "version": 3
   },
   "file_extension": ".py",
   "mimetype": "text/x-python",
   "name": "python",
   "nbconvert_exporter": "python",
   "pygments_lexer": "ipython3",
   "version": "3.10.17"
  }
 },
 "nbformat": 4,
 "nbformat_minor": 2
}
