{
 "cells": [
  {
   "cell_type": "code",
   "execution_count": 25,
   "metadata": {},
   "outputs": [],
   "source": [
    "import numpy as np\n",
    "import time"
   ]
  },
  {
   "cell_type": "code",
   "execution_count": 34,
   "metadata": {},
   "outputs": [
    {
     "name": "stdout",
     "output_type": "stream",
     "text": [
      "(3, 4)\n"
     ]
    }
   ],
   "source": [
    "original_array = np.arange(12)\n",
    "\n",
    "original_array = original_array.reshape((3, 4))\n",
    "\n",
    "print(original_array.shape)\n"
   ]
  },
  {
   "cell_type": "code",
   "execution_count": 35,
   "metadata": {},
   "outputs": [
    {
     "name": "stdout",
     "output_type": "stream",
     "text": [
      "Array:\n",
      "[[1 2 3]\n",
      " [4 5 6]\n",
      " [7 8 9]]\n",
      "\n",
      "Sum across columns: [12 15 18]\n"
     ]
    }
   ],
   "source": [
    "# Create a 2D array\n",
    "array = np.array([[1, 2, 3],\n",
    "                  [4, 5, 6],\n",
    "                  [7, 8, 9]])\n",
    "\n",
    "# Sum across columns\n",
    "column_sum = np.sum(array, axis=0)\n",
    "\n",
    "print(\"Array:\")\n",
    "print(array)\n",
    "print(\"\\nSum across columns:\", column_sum)\n"
   ]
  },
  {
   "cell_type": "code",
   "execution_count": 36,
   "metadata": {},
   "outputs": [
    {
     "name": "stdout",
     "output_type": "stream",
     "text": [
      "[4 3]\n"
     ]
    }
   ],
   "source": [
    "# Create a 2D array\n",
    "array = np.array([[1, 2, 3],\n",
    "                  [4, 5, 6],\n",
    "                  [7, 8, 9]])\n",
    "\n",
    "filtered_elements = array[(array > 2) & (array < 5)]\n",
    "\n",
    "filtered_elements = filtered_elements[::-1]\n",
    "\n",
    "print(filtered_elements)"
   ]
  },
  {
   "cell_type": "code",
   "execution_count": 37,
   "metadata": {},
   "outputs": [
    {
     "name": "stdout",
     "output_type": "stream",
     "text": [
      "Original array (2D):\n",
      "[[1 2 3]\n",
      " [4 5 6]\n",
      " [7 8 9]]\n",
      "\n",
      "Reshaped array (1D):\n",
      "[1 2 3 4 5 6 7 8 9]\n"
     ]
    }
   ],
   "source": [
    "# Create a 2D array\n",
    "original_array = np.array([[1, 2, 3],\n",
    "                           [4, 5, 6],\n",
    "                           [7, 8, 9]])\n",
    "\n",
    "reshaped_array = original_array.reshape(-1)\n",
    "\n",
    "print(\"Original array (2D):\")\n",
    "print(original_array)\n",
    "print(\"\\nReshaped array (1D):\")\n",
    "print(reshaped_array)\n"
   ]
  },
  {
   "cell_type": "code",
   "execution_count": 38,
   "metadata": {},
   "outputs": [
    {
     "name": "stdout",
     "output_type": "stream",
     "text": [
      "[[ 5  7  9]\n",
      " [ 8 10 12]]\n"
     ]
    }
   ],
   "source": [
    "# Create a 1D array\n",
    "array1 = np.array([1, 2, 3])\n",
    "\n",
    "# Create a 2D array\n",
    "array2 = np.array([[4, 5, 6],\n",
    "                   [7, 8, 9]])\n",
    "\n",
    "result = array1 + array2\n",
    "\n",
    "print(result)"
   ]
  },
  {
   "cell_type": "code",
   "execution_count": 39,
   "metadata": {},
   "outputs": [
    {
     "data": {
      "text/plain": [
       "array([[2, 3, 4],\n",
       "       [3, 4, 5],\n",
       "       [4, 5, 6]])"
      ]
     },
     "execution_count": 39,
     "metadata": {},
     "output_type": "execute_result"
    }
   ],
   "source": [
    "np.array([1, 2, 3]) + np.array([[1], [2], [3]])"
   ]
  },
  {
   "cell_type": "code",
   "execution_count": 26,
   "metadata": {},
   "outputs": [],
   "source": [
    "def multiplizeList(size=1000):\n",
    "  # declaring lists\n",
    "  list1 = list(range(size))\n",
    "  list2 = list(range(size))\n",
    "\n",
    "  # capturing time before the multiplication of Python lists\n",
    "  initialTime = time.time()\n",
    "\n",
    "  # multiplying elements of both the lists and stored in another list\n",
    "  resultantList = [(a * b) for a, b in zip(list1, list2)]\n",
    "\n",
    "  # calculating execution time\n",
    "  print(\"Time taken by Lists to perform multiplication:\",\n",
    "    (time.time() - initialTime),\n",
    "    \"seconds\")\n",
    "\n",
    "\n",
    "\n",
    "def multiplizeArray(size=1000):\n",
    "  # declaring arrays\n",
    "  array1 = np.arange(size)\n",
    "  array2 = np.arange(size)\n",
    "\n",
    "  # capturing time before the multiplication of Numpy arrays\n",
    "  initialTime = time.time()\n",
    "\n",
    "# multiplying elements of both the Numpy arrays and stored in another Numpy array\n",
    "  resultantArray = array1 * array2\n",
    "\n",
    "# calculating execution time\n",
    "  print(\"Time taken by NumPy Arrays to perform multiplication:\",\n",
    "    (time.time() - initialTime),\n",
    "    \"seconds\")"
   ]
  },
  {
   "cell_type": "code",
   "execution_count": 27,
   "metadata": {},
   "outputs": [
    {
     "name": "stdout",
     "output_type": "stream",
     "text": [
      "Time taken by Lists to perform multiplication: 9.441375732421875e-05 seconds\n",
      "Time taken by NumPy Arrays to perform multiplication: 2.5033950805664062e-05 seconds\n"
     ]
    }
   ],
   "source": [
    "multiplizeList()\n",
    "multiplizeArray()"
   ]
  },
  {
   "cell_type": "code",
   "execution_count": 31,
   "metadata": {},
   "outputs": [
    {
     "name": "stdout",
     "output_type": "stream",
     "text": [
      "Kept indices: [0, 2]\n",
      "Kept boxes: [array([100, 100, 210, 210]), array([150, 150, 250, 250])]\n"
     ]
    }
   ],
   "source": [
    "# List solution\n",
    "def compute_iou(box1, box2):\n",
    "        x1_1, y1_1, x2_1, y2_1 = box1\n",
    "        x1_2, y1_2, x2_2, y2_2 = box2\n",
    "\n",
    "        # Compute the coordinates of the intersection rectangle\n",
    "        xx1 = max(x1_1, x1_2)\n",
    "        yy1 = max(y1_1, y1_2)\n",
    "        xx2 = min(x2_1, x2_2)\n",
    "        yy2 = min(y2_1, y2_2)\n",
    "\n",
    "        # Compute the width and height of the intersection rectangle\n",
    "        w = max(0, xx2 - xx1 + 1)\n",
    "        h = max(0, yy2 - yy1 + 1)\n",
    "\n",
    "        # Compute the area of the intersection rectangle\n",
    "        inter_area = w * h\n",
    "\n",
    "        # Compute the area of both bounding boxes\n",
    "        box1_area = (x2_1 - x1_1 + 1) * (y2_1 - y1_1 + 1)\n",
    "        box2_area = (x2_2 - x1_2 + 1) * (y2_2 - y1_2 + 1)\n",
    "\n",
    "        # Compute the Intersection over Union (IoU)\n",
    "        iou = inter_area / float(box1_area + box2_area - inter_area)\n",
    "\n",
    "        return iou\n",
    "\n",
    "# Refine for class\n",
    "def non_max_suppression(boxes, scores, iou_threshold):\n",
    "\n",
    "\n",
    "    # Sort the boxes by scores in descending order\n",
    "    sorted_indices = sorted(range(len(scores)), key=lambda k: scores[k], reverse=True)\n",
    "\n",
    "    keep = []  # List to store the indices of boxes to keep\n",
    "\n",
    "    while sorted_indices:\n",
    "        i = sorted_indices.pop(0)  # Index of the current highest score box\n",
    "        keep.append(i)\n",
    "        # print(\"sorted_indices\", sorted_indices)\n",
    "        filtered_indices = []\n",
    "        for j in sorted_indices:\n",
    "            iou = compute_iou(boxes[i], boxes[j])\n",
    "            if iou <= iou_threshold:\n",
    "                filtered_indices.append(j)\n",
    "\n",
    "        sorted_indices = filtered_indices\n",
    "\n",
    "    return keep\n",
    "\n",
    "# Example usage\n",
    "# boxes = [\n",
    "#     [12, 84, 140, 212],\n",
    "#     [24, 84, 152, 212],\n",
    "#     [36, 84, 164, 212],\n",
    "#     [12, 96, 140, 224],\n",
    "#     [24, 96, 152, 224]\n",
    "# ]\n",
    "\n",
    "# scores = [0.3, 0.4, 0.5, 0.6, 0.7]\n",
    "# iou_threshold = 0.3\n",
    "\n",
    "boxes = np.array([\n",
    "    [100, 100, 210, 210],\n",
    "    [105, 105, 215, 215],\n",
    "    [150, 150, 250, 250]\n",
    "])\n",
    "\n",
    "scores = np.array([0.9, 0.8, 0.7])\n",
    "threshold = 0.5\n",
    "\n",
    "\n",
    "kept_indices = non_max_suppression(boxes, scores, threshold)\n",
    "kept_boxes = [boxes[i] for i in kept_indices]\n",
    "\n",
    "print(\"Kept indices:\", kept_indices)\n",
    "print(\"Kept boxes:\", kept_boxes)\n"
   ]
  }
 ],
 "metadata": {
  "kernelspec": {
   "display_name": "aio-hw2024",
   "language": "python",
   "name": "python3"
  },
  "language_info": {
   "codemirror_mode": {
    "name": "ipython",
    "version": 3
   },
   "file_extension": ".py",
   "mimetype": "text/x-python",
   "name": "python",
   "nbconvert_exporter": "python",
   "pygments_lexer": "ipython3",
   "version": "3.10.17"
  }
 },
 "nbformat": 4,
 "nbformat_minor": 2
}
