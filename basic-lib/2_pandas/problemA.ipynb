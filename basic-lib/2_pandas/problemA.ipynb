{
 "cells": [
  {
   "cell_type": "code",
   "execution_count": 1,
   "metadata": {},
   "outputs": [
    {
     "name": "stdout",
     "output_type": "stream",
     "text": [
      "/home/heigetvu/anaconda3/envs/aio-hw2024/lib/python3.10/site-packages/gdown/__main__.py:140: FutureWarning: Option `--id` was deprecated in version 4.3.1 and will be removed in 5.0. You don't need to pass it anymore to use a file ID.\n",
      "  warnings.warn(\n",
      "Downloading...\n",
      "From: https://drive.google.com/uc?id=11fjFxxa2RfoLCJUQ_OSTm3GfMZHVy8Gy\n",
      "To: /home/heigetvu/my-project/AIO-2024/implment-algorithm/pandas-practise/Pokemon.csv\n",
      "100%|███████████████████████████████████████| 44.0k/44.0k [00:00<00:00, 539kB/s]\n"
     ]
    }
   ],
   "source": [
    "# https://drive.google.com/file/d/11fjFxxa2RfoLCJUQ_OSTm3GfMZHVy8Gy/view?usp=sharing\n",
    "!gdown --id 11fjFxxa2RfoLCJUQ_OSTm3GfMZHVy8Gy"
   ]
  },
  {
   "cell_type": "code",
   "execution_count": null,
   "metadata": {},
   "outputs": [],
   "source": []
  }
 ],
 "metadata": {
  "kernelspec": {
   "display_name": "aio-hw2024",
   "language": "python",
   "name": "python3"
  },
  "language_info": {
   "codemirror_mode": {
    "name": "ipython",
    "version": 3
   },
   "file_extension": ".py",
   "mimetype": "text/x-python",
   "name": "python",
   "nbconvert_exporter": "python",
   "pygments_lexer": "ipython3",
   "version": "3.10.17"
  }
 },
 "nbformat": 4,
 "nbformat_minor": 2
}
